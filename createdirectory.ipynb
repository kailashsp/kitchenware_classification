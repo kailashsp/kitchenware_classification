{
 "cells": [
  {
   "cell_type": "code",
   "execution_count": 19,
   "metadata": {},
   "outputs": [],
   "source": [
    "import numpy as np\n",
    "import pandas as pd\n",
    "import os\n",
    "import shutil"
   ]
  },
  {
   "cell_type": "code",
   "execution_count": 13,
   "metadata": {},
   "outputs": [
    {
     "name": "stdout",
     "output_type": "stream",
     "text": [
      "     Id  label         filename\n",
      "0  0560  glass  images/0560.jpg\n",
      "1  4675    cup  images/4675.jpg\n",
      "2  0875  glass  images/0875.jpg\n",
      "3  4436  spoon  images/4436.jpg\n",
      "4  8265  plate  images/8265.jpg\n"
     ]
    }
   ],
   "source": [
    "df_test_full = pd.read_csv('/home/kailash/yoga_pose/kitchenware_classification/test.csv', dtype={'Id': str})\n",
    "df_test_full['filename'] = 'images/' + df_test_full['Id'] + '.jpg'\n",
    "print(df_test_full.head())\n",
    "\n"
   ]
  },
  {
   "cell_type": "code",
   "execution_count": 14,
   "metadata": {},
   "outputs": [
    {
     "data": {
      "text/plain": [
       "plate    1227\n",
       "cup      1135\n",
       "spoon     989\n",
       "knife     909\n",
       "glass     742\n",
       "fork      557\n",
       "Name: label, dtype: int64"
      ]
     },
     "execution_count": 14,
     "metadata": {},
     "output_type": "execute_result"
    }
   ],
   "source": [
    "df_test_full['label'].value_counts()"
   ]
  },
  {
   "cell_type": "code",
   "execution_count": 15,
   "metadata": {},
   "outputs": [],
   "source": [
    "labels = df_test_full['label'].drop_duplicates().tolist()"
   ]
  },
  {
   "cell_type": "code",
   "execution_count": 16,
   "metadata": {},
   "outputs": [],
   "source": [
    "if not os.path.exists('Kitchenwares_test'):\n",
    "    os.mkdir('Kitchenwares_test')\n"
   ]
  },
  {
   "cell_type": "code",
   "execution_count": 17,
   "metadata": {},
   "outputs": [],
   "source": [
    "for label in labels:\n",
    "    if not os.path.exists(f'Kitchenwares_test/{label}'):\n",
    "        os.mkdir(f'Kitchenwares_test/{label}')"
   ]
  },
  {
   "cell_type": "code",
   "execution_count": 21,
   "metadata": {},
   "outputs": [],
   "source": [
    "for label in labels:\n",
    "    for i in df_test_full.itertuples():\n",
    "        if i.label == label:\n",
    "            shutil.copyfile(i.filename,f'Kitchenwares_test/{label}/{i.filename.split(\"/\")[-1]}')\n",
    "    "
   ]
  },
  {
   "cell_type": "code",
   "execution_count": null,
   "metadata": {},
   "outputs": [],
   "source": []
  },
  {
   "cell_type": "code",
   "execution_count": null,
   "metadata": {},
   "outputs": [],
   "source": []
  },
  {
   "cell_type": "code",
   "execution_count": null,
   "metadata": {},
   "outputs": [],
   "source": []
  }
 ],
 "metadata": {
  "kernelspec": {
   "display_name": "tensorflow1",
   "language": "python",
   "name": "python3"
  },
  "language_info": {
   "codemirror_mode": {
    "name": "ipython",
    "version": 3
   },
   "file_extension": ".py",
   "mimetype": "text/x-python",
   "name": "python",
   "nbconvert_exporter": "python",
   "pygments_lexer": "ipython3",
   "version": "3.10.4 (main, Mar 31 2022, 08:41:55) [GCC 7.5.0]"
  },
  "orig_nbformat": 4,
  "vscode": {
   "interpreter": {
    "hash": "32df1eb32394b513ab03ec1ca1fed6ddb93f4a47a0f6d691f350cc1ad9704886"
   }
  }
 },
 "nbformat": 4,
 "nbformat_minor": 2
}
